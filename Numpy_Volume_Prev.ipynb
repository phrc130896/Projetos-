{
  "cells": [
    {
      "cell_type": "markdown",
      "metadata": {
        "id": "HgVucNOjn9bX"
      },
      "source": [
        "# A base de dados"
      ]
    },
    {
      "cell_type": "markdown",
      "metadata": {
        "id": "sR5gJ66Mn9bm"
      },
      "source": [
        "### Carregando o dataset"
      ]
    },
    {
      "cell_type": "code",
      "execution_count": 2,
      "metadata": {
        "id": "gxasktUYn9bs",
        "outputId": "0ea90681-130d-494c-94ac-e0e8bfcc61a0",
        "colab": {
          "resources": {
            "http://localhost:8080/nbextensions/google.colab/files.js": {
              "data": "Ly8gQ29weXJpZ2h0IDIwMTcgR29vZ2xlIExMQwovLwovLyBMaWNlbnNlZCB1bmRlciB0aGUgQXBhY2hlIExpY2Vuc2UsIFZlcnNpb24gMi4wICh0aGUgIkxpY2Vuc2UiKTsKLy8geW91IG1heSBub3QgdXNlIHRoaXMgZmlsZSBleGNlcHQgaW4gY29tcGxpYW5jZSB3aXRoIHRoZSBMaWNlbnNlLgovLyBZb3UgbWF5IG9idGFpbiBhIGNvcHkgb2YgdGhlIExpY2Vuc2UgYXQKLy8KLy8gICAgICBodHRwOi8vd3d3LmFwYWNoZS5vcmcvbGljZW5zZXMvTElDRU5TRS0yLjAKLy8KLy8gVW5sZXNzIHJlcXVpcmVkIGJ5IGFwcGxpY2FibGUgbGF3IG9yIGFncmVlZCB0byBpbiB3cml0aW5nLCBzb2Z0d2FyZQovLyBkaXN0cmlidXRlZCB1bmRlciB0aGUgTGljZW5zZSBpcyBkaXN0cmlidXRlZCBvbiBhbiAiQVMgSVMiIEJBU0lTLAovLyBXSVRIT1VUIFdBUlJBTlRJRVMgT1IgQ09ORElUSU9OUyBPRiBBTlkgS0lORCwgZWl0aGVyIGV4cHJlc3Mgb3IgaW1wbGllZC4KLy8gU2VlIHRoZSBMaWNlbnNlIGZvciB0aGUgc3BlY2lmaWMgbGFuZ3VhZ2UgZ292ZXJuaW5nIHBlcm1pc3Npb25zIGFuZAovLyBsaW1pdGF0aW9ucyB1bmRlciB0aGUgTGljZW5zZS4KCi8qKgogKiBAZmlsZW92ZXJ2aWV3IEhlbHBlcnMgZm9yIGdvb2dsZS5jb2xhYiBQeXRob24gbW9kdWxlLgogKi8KKGZ1bmN0aW9uKHNjb3BlKSB7CmZ1bmN0aW9uIHNwYW4odGV4dCwgc3R5bGVBdHRyaWJ1dGVzID0ge30pIHsKICBjb25zdCBlbGVtZW50ID0gZG9jdW1lbnQuY3JlYXRlRWxlbWVudCgnc3BhbicpOwogIGVsZW1lbnQudGV4dENvbnRlbnQgPSB0ZXh0OwogIGZvciAoY29uc3Qga2V5IG9mIE9iamVjdC5rZXlzKHN0eWxlQXR0cmlidXRlcykpIHsKICAgIGVsZW1lbnQuc3R5bGVba2V5XSA9IHN0eWxlQXR0cmlidXRlc1trZXldOwogIH0KICByZXR1cm4gZWxlbWVudDsKfQoKLy8gTWF4IG51bWJlciBvZiBieXRlcyB3aGljaCB3aWxsIGJlIHVwbG9hZGVkIGF0IGEgdGltZS4KY29uc3QgTUFYX1BBWUxPQURfU0laRSA9IDEwMCAqIDEwMjQ7CgpmdW5jdGlvbiBfdXBsb2FkRmlsZXMoaW5wdXRJZCwgb3V0cHV0SWQpIHsKICBjb25zdCBzdGVwcyA9IHVwbG9hZEZpbGVzU3RlcChpbnB1dElkLCBvdXRwdXRJZCk7CiAgY29uc3Qgb3V0cHV0RWxlbWVudCA9IGRvY3VtZW50LmdldEVsZW1lbnRCeUlkKG91dHB1dElkKTsKICAvLyBDYWNoZSBzdGVwcyBvbiB0aGUgb3V0cHV0RWxlbWVudCB0byBtYWtlIGl0IGF2YWlsYWJsZSBmb3IgdGhlIG5leHQgY2FsbAogIC8vIHRvIHVwbG9hZEZpbGVzQ29udGludWUgZnJvbSBQeXRob24uCiAgb3V0cHV0RWxlbWVudC5zdGVwcyA9IHN0ZXBzOwoKICByZXR1cm4gX3VwbG9hZEZpbGVzQ29udGludWUob3V0cHV0SWQpOwp9CgovLyBUaGlzIGlzIHJvdWdobHkgYW4gYXN5bmMgZ2VuZXJhdG9yIChub3Qgc3VwcG9ydGVkIGluIHRoZSBicm93c2VyIHlldCksCi8vIHdoZXJlIHRoZXJlIGFyZSBtdWx0aXBsZSBhc3luY2hyb25vdXMgc3RlcHMgYW5kIHRoZSBQeXRob24gc2lkZSBpcyBnb2luZwovLyB0byBwb2xsIGZvciBjb21wbGV0aW9uIG9mIGVhY2ggc3RlcC4KLy8gVGhpcyB1c2VzIGEgUHJvbWlzZSB0byBibG9jayB0aGUgcHl0aG9uIHNpZGUgb24gY29tcGxldGlvbiBvZiBlYWNoIHN0ZXAsCi8vIHRoZW4gcGFzc2VzIHRoZSByZXN1bHQgb2YgdGhlIHByZXZpb3VzIHN0ZXAgYXMgdGhlIGlucHV0IHRvIHRoZSBuZXh0IHN0ZXAuCmZ1bmN0aW9uIF91cGxvYWRGaWxlc0NvbnRpbnVlKG91dHB1dElkKSB7CiAgY29uc3Qgb3V0cHV0RWxlbWVudCA9IGRvY3VtZW50LmdldEVsZW1lbnRCeUlkKG91dHB1dElkKTsKICBjb25zdCBzdGVwcyA9IG91dHB1dEVsZW1lbnQuc3RlcHM7CgogIGNvbnN0IG5leHQgPSBzdGVwcy5uZXh0KG91dHB1dEVsZW1lbnQubGFzdFByb21pc2VWYWx1ZSk7CiAgcmV0dXJuIFByb21pc2UucmVzb2x2ZShuZXh0LnZhbHVlLnByb21pc2UpLnRoZW4oKHZhbHVlKSA9PiB7CiAgICAvLyBDYWNoZSB0aGUgbGFzdCBwcm9taXNlIHZhbHVlIHRvIG1ha2UgaXQgYXZhaWxhYmxlIHRvIHRoZSBuZXh0CiAgICAvLyBzdGVwIG9mIHRoZSBnZW5lcmF0b3IuCiAgICBvdXRwdXRFbGVtZW50Lmxhc3RQcm9taXNlVmFsdWUgPSB2YWx1ZTsKICAgIHJldHVybiBuZXh0LnZhbHVlLnJlc3BvbnNlOwogIH0pOwp9CgovKioKICogR2VuZXJhdG9yIGZ1bmN0aW9uIHdoaWNoIGlzIGNhbGxlZCBiZXR3ZWVuIGVhY2ggYXN5bmMgc3RlcCBvZiB0aGUgdXBsb2FkCiAqIHByb2Nlc3MuCiAqIEBwYXJhbSB7c3RyaW5nfSBpbnB1dElkIEVsZW1lbnQgSUQgb2YgdGhlIGlucHV0IGZpbGUgcGlja2VyIGVsZW1lbnQuCiAqIEBwYXJhbSB7c3RyaW5nfSBvdXRwdXRJZCBFbGVtZW50IElEIG9mIHRoZSBvdXRwdXQgZGlzcGxheS4KICogQHJldHVybiB7IUl0ZXJhYmxlPCFPYmplY3Q+fSBJdGVyYWJsZSBvZiBuZXh0IHN0ZXBzLgogKi8KZnVuY3Rpb24qIHVwbG9hZEZpbGVzU3RlcChpbnB1dElkLCBvdXRwdXRJZCkgewogIGNvbnN0IGlucHV0RWxlbWVudCA9IGRvY3VtZW50LmdldEVsZW1lbnRCeUlkKGlucHV0SWQpOwogIGlucHV0RWxlbWVudC5kaXNhYmxlZCA9IGZhbHNlOwoKICBjb25zdCBvdXRwdXRFbGVtZW50ID0gZG9jdW1lbnQuZ2V0RWxlbWVudEJ5SWQob3V0cHV0SWQpOwogIG91dHB1dEVsZW1lbnQuaW5uZXJIVE1MID0gJyc7CgogIGNvbnN0IHBpY2tlZFByb21pc2UgPSBuZXcgUHJvbWlzZSgocmVzb2x2ZSkgPT4gewogICAgaW5wdXRFbGVtZW50LmFkZEV2ZW50TGlzdGVuZXIoJ2NoYW5nZScsIChlKSA9PiB7CiAgICAgIHJlc29sdmUoZS50YXJnZXQuZmlsZXMpOwogICAgfSk7CiAgfSk7CgogIGNvbnN0IGNhbmNlbCA9IGRvY3VtZW50LmNyZWF0ZUVsZW1lbnQoJ2J1dHRvbicpOwogIGlucHV0RWxlbWVudC5wYXJlbnRFbGVtZW50LmFwcGVuZENoaWxkKGNhbmNlbCk7CiAgY2FuY2VsLnRleHRDb250ZW50ID0gJ0NhbmNlbCB1cGxvYWQnOwogIGNvbnN0IGNhbmNlbFByb21pc2UgPSBuZXcgUHJvbWlzZSgocmVzb2x2ZSkgPT4gewogICAgY2FuY2VsLm9uY2xpY2sgPSAoKSA9PiB7CiAgICAgIHJlc29sdmUobnVsbCk7CiAgICB9OwogIH0pOwoKICAvLyBXYWl0IGZvciB0aGUgdXNlciB0byBwaWNrIHRoZSBmaWxlcy4KICBjb25zdCBmaWxlcyA9IHlpZWxkIHsKICAgIHByb21pc2U6IFByb21pc2UucmFjZShbcGlja2VkUHJvbWlzZSwgY2FuY2VsUHJvbWlzZV0pLAogICAgcmVzcG9uc2U6IHsKICAgICAgYWN0aW9uOiAnc3RhcnRpbmcnLAogICAgfQogIH07CgogIGNhbmNlbC5yZW1vdmUoKTsKCiAgLy8gRGlzYWJsZSB0aGUgaW5wdXQgZWxlbWVudCBzaW5jZSBmdXJ0aGVyIHBpY2tzIGFyZSBub3QgYWxsb3dlZC4KICBpbnB1dEVsZW1lbnQuZGlzYWJsZWQgPSB0cnVlOwoKICBpZiAoIWZpbGVzKSB7CiAgICByZXR1cm4gewogICAgICByZXNwb25zZTogewogICAgICAgIGFjdGlvbjogJ2NvbXBsZXRlJywKICAgICAgfQogICAgfTsKICB9CgogIGZvciAoY29uc3QgZmlsZSBvZiBmaWxlcykgewogICAgY29uc3QgbGkgPSBkb2N1bWVudC5jcmVhdGVFbGVtZW50KCdsaScpOwogICAgbGkuYXBwZW5kKHNwYW4oZmlsZS5uYW1lLCB7Zm9udFdlaWdodDogJ2JvbGQnfSkpOwogICAgbGkuYXBwZW5kKHNwYW4oCiAgICAgICAgYCgke2ZpbGUudHlwZSB8fCAnbi9hJ30pIC0gJHtmaWxlLnNpemV9IGJ5dGVzLCBgICsKICAgICAgICBgbGFzdCBtb2RpZmllZDogJHsKICAgICAgICAgICAgZmlsZS5sYXN0TW9kaWZpZWREYXRlID8gZmlsZS5sYXN0TW9kaWZpZWREYXRlLnRvTG9jYWxlRGF0ZVN0cmluZygpIDoKICAgICAgICAgICAgICAgICAgICAgICAgICAgICAgICAgICAgJ24vYSd9IC0gYCkpOwogICAgY29uc3QgcGVyY2VudCA9IHNwYW4oJzAlIGRvbmUnKTsKICAgIGxpLmFwcGVuZENoaWxkKHBlcmNlbnQpOwoKICAgIG91dHB1dEVsZW1lbnQuYXBwZW5kQ2hpbGQobGkpOwoKICAgIGNvbnN0IGZpbGVEYXRhUHJvbWlzZSA9IG5ldyBQcm9taXNlKChyZXNvbHZlKSA9PiB7CiAgICAgIGNvbnN0IHJlYWRlciA9IG5ldyBGaWxlUmVhZGVyKCk7CiAgICAgIHJlYWRlci5vbmxvYWQgPSAoZSkgPT4gewogICAgICAgIHJlc29sdmUoZS50YXJnZXQucmVzdWx0KTsKICAgICAgfTsKICAgICAgcmVhZGVyLnJlYWRBc0FycmF5QnVmZmVyKGZpbGUpOwogICAgfSk7CiAgICAvLyBXYWl0IGZvciB0aGUgZGF0YSB0byBiZSByZWFkeS4KICAgIGxldCBmaWxlRGF0YSA9IHlpZWxkIHsKICAgICAgcHJvbWlzZTogZmlsZURhdGFQcm9taXNlLAogICAgICByZXNwb25zZTogewogICAgICAgIGFjdGlvbjogJ2NvbnRpbnVlJywKICAgICAgfQogICAgfTsKCiAgICAvLyBVc2UgYSBjaHVua2VkIHNlbmRpbmcgdG8gYXZvaWQgbWVzc2FnZSBzaXplIGxpbWl0cy4gU2VlIGIvNjIxMTU2NjAuCiAgICBsZXQgcG9zaXRpb24gPSAwOwogICAgZG8gewogICAgICBjb25zdCBsZW5ndGggPSBNYXRoLm1pbihmaWxlRGF0YS5ieXRlTGVuZ3RoIC0gcG9zaXRpb24sIE1BWF9QQVlMT0FEX1NJWkUpOwogICAgICBjb25zdCBjaHVuayA9IG5ldyBVaW50OEFycmF5KGZpbGVEYXRhLCBwb3NpdGlvbiwgbGVuZ3RoKTsKICAgICAgcG9zaXRpb24gKz0gbGVuZ3RoOwoKICAgICAgY29uc3QgYmFzZTY0ID0gYnRvYShTdHJpbmcuZnJvbUNoYXJDb2RlLmFwcGx5KG51bGwsIGNodW5rKSk7CiAgICAgIHlpZWxkIHsKICAgICAgICByZXNwb25zZTogewogICAgICAgICAgYWN0aW9uOiAnYXBwZW5kJywKICAgICAgICAgIGZpbGU6IGZpbGUubmFtZSwKICAgICAgICAgIGRhdGE6IGJhc2U2NCwKICAgICAgICB9LAogICAgICB9OwoKICAgICAgbGV0IHBlcmNlbnREb25lID0gZmlsZURhdGEuYnl0ZUxlbmd0aCA9PT0gMCA/CiAgICAgICAgICAxMDAgOgogICAgICAgICAgTWF0aC5yb3VuZCgocG9zaXRpb24gLyBmaWxlRGF0YS5ieXRlTGVuZ3RoKSAqIDEwMCk7CiAgICAgIHBlcmNlbnQudGV4dENvbnRlbnQgPSBgJHtwZXJjZW50RG9uZX0lIGRvbmVgOwoKICAgIH0gd2hpbGUgKHBvc2l0aW9uIDwgZmlsZURhdGEuYnl0ZUxlbmd0aCk7CiAgfQoKICAvLyBBbGwgZG9uZS4KICB5aWVsZCB7CiAgICByZXNwb25zZTogewogICAgICBhY3Rpb246ICdjb21wbGV0ZScsCiAgICB9CiAgfTsKfQoKc2NvcGUuZ29vZ2xlID0gc2NvcGUuZ29vZ2xlIHx8IHt9OwpzY29wZS5nb29nbGUuY29sYWIgPSBzY29wZS5nb29nbGUuY29sYWIgfHwge307CnNjb3BlLmdvb2dsZS5jb2xhYi5fZmlsZXMgPSB7CiAgX3VwbG9hZEZpbGVzLAogIF91cGxvYWRGaWxlc0NvbnRpbnVlLAp9Owp9KShzZWxmKTsK",
              "ok": true,
              "headers": [
                [
                  "content-type",
                  "application/javascript"
                ]
              ],
              "status": 200,
              "status_text": ""
            }
          },
          "base_uri": "https://localhost:8080/",
          "height": 56
        }
      },
      "outputs": [
        {
          "output_type": "display_data",
          "data": {
            "text/html": [
              "\n",
              "     <input type=\"file\" id=\"files-089b2d42-bf53-4ebc-a907-82d72e5dbf5b\" name=\"files[]\" multiple disabled\n",
              "        style=\"border:none\" />\n",
              "     <output id=\"result-089b2d42-bf53-4ebc-a907-82d72e5dbf5b\">\n",
              "      Upload widget is only available when the cell has been executed in the\n",
              "      current browser session. Please rerun this cell to enable.\n",
              "      </output>\n",
              "      <script src=\"/nbextensions/google.colab/files.js\"></script> "
            ],
            "text/plain": [
              "<IPython.core.display.HTML object>"
            ]
          },
          "metadata": {}
        },
        {
          "output_type": "execute_result",
          "data": {
            "text/plain": [
              "{}"
            ]
          },
          "metadata": {},
          "execution_count": 2
        }
      ],
      "source": [
        "from google.colab import files\n",
        "files.upload()"
      ]
    },
    {
      "cell_type": "code",
      "execution_count": 3,
      "metadata": {
        "id": "t9b9WAEqn9b0"
      },
      "outputs": [],
      "source": [
        "import pandas as pd\n",
        "\n",
        "dados = pd.read_csv('Iron_Ore_Price.csv')"
      ]
    },
    {
      "cell_type": "markdown",
      "metadata": {
        "id": "gCf2W8Fqn9b2"
      },
      "source": [
        "### Conhecendo a base de dados"
      ]
    },
    {
      "cell_type": "code",
      "execution_count": 4,
      "metadata": {
        "id": "co3yyG_Mn9b4",
        "outputId": "bde5058f-0531-4e4c-aec6-f5acda237044",
        "colab": {
          "base_uri": "https://localhost:8080/",
          "height": 206
        }
      },
      "outputs": [
        {
          "output_type": "execute_result",
          "data": {
            "text/html": [
              "\n",
              "  <div id=\"df-ca784852-b8c2-4d80-a895-d3a809663bbc\">\n",
              "    <div class=\"colab-df-container\">\n",
              "      <div>\n",
              "<style scoped>\n",
              "    .dataframe tbody tr th:only-of-type {\n",
              "        vertical-align: middle;\n",
              "    }\n",
              "\n",
              "    .dataframe tbody tr th {\n",
              "        vertical-align: top;\n",
              "    }\n",
              "\n",
              "    .dataframe thead th {\n",
              "        text-align: right;\n",
              "    }\n",
              "</style>\n",
              "<table border=\"1\" class=\"dataframe\">\n",
              "  <thead>\n",
              "    <tr style=\"text-align: right;\">\n",
              "      <th></th>\n",
              "      <th>Trens</th>\n",
              "      <th>Preço</th>\n",
              "    </tr>\n",
              "  </thead>\n",
              "  <tbody>\n",
              "    <tr>\n",
              "      <th>0</th>\n",
              "      <td>8</td>\n",
              "      <td>105.0</td>\n",
              "    </tr>\n",
              "    <tr>\n",
              "      <th>1</th>\n",
              "      <td>15</td>\n",
              "      <td>123.0</td>\n",
              "    </tr>\n",
              "    <tr>\n",
              "      <th>2</th>\n",
              "      <td>18</td>\n",
              "      <td>161.0</td>\n",
              "    </tr>\n",
              "    <tr>\n",
              "      <th>3</th>\n",
              "      <td>15</td>\n",
              "      <td>168.0</td>\n",
              "    </tr>\n",
              "    <tr>\n",
              "      <th>4</th>\n",
              "      <td>28</td>\n",
              "      <td>208.0</td>\n",
              "    </tr>\n",
              "  </tbody>\n",
              "</table>\n",
              "</div>\n",
              "      <button class=\"colab-df-convert\" onclick=\"convertToInteractive('df-ca784852-b8c2-4d80-a895-d3a809663bbc')\"\n",
              "              title=\"Convert this dataframe to an interactive table.\"\n",
              "              style=\"display:none;\">\n",
              "        \n",
              "  <svg xmlns=\"http://www.w3.org/2000/svg\" height=\"24px\"viewBox=\"0 0 24 24\"\n",
              "       width=\"24px\">\n",
              "    <path d=\"M0 0h24v24H0V0z\" fill=\"none\"/>\n",
              "    <path d=\"M18.56 5.44l.94 2.06.94-2.06 2.06-.94-2.06-.94-.94-2.06-.94 2.06-2.06.94zm-11 1L8.5 8.5l.94-2.06 2.06-.94-2.06-.94L8.5 2.5l-.94 2.06-2.06.94zm10 10l.94 2.06.94-2.06 2.06-.94-2.06-.94-.94-2.06-.94 2.06-2.06.94z\"/><path d=\"M17.41 7.96l-1.37-1.37c-.4-.4-.92-.59-1.43-.59-.52 0-1.04.2-1.43.59L10.3 9.45l-7.72 7.72c-.78.78-.78 2.05 0 2.83L4 21.41c.39.39.9.59 1.41.59.51 0 1.02-.2 1.41-.59l7.78-7.78 2.81-2.81c.8-.78.8-2.07 0-2.86zM5.41 20L4 18.59l7.72-7.72 1.47 1.35L5.41 20z\"/>\n",
              "  </svg>\n",
              "      </button>\n",
              "      \n",
              "  <style>\n",
              "    .colab-df-container {\n",
              "      display:flex;\n",
              "      flex-wrap:wrap;\n",
              "      gap: 12px;\n",
              "    }\n",
              "\n",
              "    .colab-df-convert {\n",
              "      background-color: #E8F0FE;\n",
              "      border: none;\n",
              "      border-radius: 50%;\n",
              "      cursor: pointer;\n",
              "      display: none;\n",
              "      fill: #1967D2;\n",
              "      height: 32px;\n",
              "      padding: 0 0 0 0;\n",
              "      width: 32px;\n",
              "    }\n",
              "\n",
              "    .colab-df-convert:hover {\n",
              "      background-color: #E2EBFA;\n",
              "      box-shadow: 0px 1px 2px rgba(60, 64, 67, 0.3), 0px 1px 3px 1px rgba(60, 64, 67, 0.15);\n",
              "      fill: #174EA6;\n",
              "    }\n",
              "\n",
              "    [theme=dark] .colab-df-convert {\n",
              "      background-color: #3B4455;\n",
              "      fill: #D2E3FC;\n",
              "    }\n",
              "\n",
              "    [theme=dark] .colab-df-convert:hover {\n",
              "      background-color: #434B5C;\n",
              "      box-shadow: 0px 1px 3px 1px rgba(0, 0, 0, 0.15);\n",
              "      filter: drop-shadow(0px 1px 2px rgba(0, 0, 0, 0.3));\n",
              "      fill: #FFFFFF;\n",
              "    }\n",
              "  </style>\n",
              "\n",
              "      <script>\n",
              "        const buttonEl =\n",
              "          document.querySelector('#df-ca784852-b8c2-4d80-a895-d3a809663bbc button.colab-df-convert');\n",
              "        buttonEl.style.display =\n",
              "          google.colab.kernel.accessAllowed ? 'block' : 'none';\n",
              "\n",
              "        async function convertToInteractive(key) {\n",
              "          const element = document.querySelector('#df-ca784852-b8c2-4d80-a895-d3a809663bbc');\n",
              "          const dataTable =\n",
              "            await google.colab.kernel.invokeFunction('convertToInteractive',\n",
              "                                                     [key], {});\n",
              "          if (!dataTable) return;\n",
              "\n",
              "          const docLinkHtml = 'Like what you see? Visit the ' +\n",
              "            '<a target=\"_blank\" href=https://colab.research.google.com/notebooks/data_table.ipynb>data table notebook</a>'\n",
              "            + ' to learn more about interactive tables.';\n",
              "          element.innerHTML = '';\n",
              "          dataTable['output_type'] = 'display_data';\n",
              "          await google.colab.output.renderOutput(dataTable, element);\n",
              "          const docLink = document.createElement('div');\n",
              "          docLink.innerHTML = docLinkHtml;\n",
              "          element.appendChild(docLink);\n",
              "        }\n",
              "      </script>\n",
              "    </div>\n",
              "  </div>\n",
              "  "
            ],
            "text/plain": [
              "   Trens  Preço\n",
              "0      8  105.0\n",
              "1     15  123.0\n",
              "2     18  161.0\n",
              "3     15  168.0\n",
              "4     28  208.0"
            ]
          },
          "metadata": {},
          "execution_count": 4
        }
      ],
      "source": [
        "dados.head()"
      ]
    },
    {
      "cell_type": "code",
      "execution_count": 5,
      "metadata": {
        "id": "zqqm_exQn9b_",
        "outputId": "865db8e5-ca4b-450c-fc5e-c0baa47af394",
        "colab": {
          "base_uri": "https://localhost:8080/"
        }
      },
      "outputs": [
        {
          "output_type": "execute_result",
          "data": {
            "text/plain": [
              "(244, 2)"
            ]
          },
          "metadata": {},
          "execution_count": 5
        }
      ],
      "source": [
        "dados.shape"
      ]
    },
    {
      "cell_type": "code",
      "execution_count": 6,
      "metadata": {
        "id": "kY_3whxFn9cG"
      },
      "outputs": [],
      "source": [
        "import matplotlib.pyplot as plt"
      ]
    },
    {
      "cell_type": "code",
      "execution_count": 7,
      "metadata": {
        "id": "U4c2Ekatn9cJ",
        "outputId": "05e561f2-02e0-4f2a-f45c-02411d9ff71c",
        "colab": {
          "base_uri": "https://localhost:8080/",
          "height": 306
        }
      },
      "outputs": [
        {
          "output_type": "execute_result",
          "data": {
            "text/plain": [
              "Text(0.5, 0, 'Preço de Mercado do Minério')"
            ]
          },
          "metadata": {},
          "execution_count": 7
        },
        {
          "output_type": "display_data",
          "data": {
            "image/png": "[encoded data removed]",
            "text/plain": [
              "<Figure size 432x288 with 1 Axes>"
            ]
          },
          "metadata": {
            "needs_background": "light"
          }
        }
      ],
      "source": [
        "plt.rcParams.update({'font.size': 14})\n",
        "plt.scatter(dados['Preço'],dados['Trens'])\n",
        "plt.ylabel('Quantidade de Trens')\n",
        "plt.xlabel('Preço de Mercado do Minério')"
      ]
    },
    {
      "cell_type": "markdown",
      "metadata": {
        "id": "S1iF_KRvn9cT"
      },
      "source": [
        "### Normalizando a base de dados"
      ]
    },
    {
      "cell_type": "code",
      "execution_count": 8,
      "metadata": {
        "id": "hF_ZseGvn9cV"
      },
      "outputs": [],
      "source": [
        "import numpy as np"
      ]
    },
    {
      "cell_type": "code",
      "execution_count": 9,
      "metadata": {
        "id": "bBWkEJcOn9cX"
      },
      "outputs": [],
      "source": [
        "y = dados['Trens'].values"
      ]
    },
    {
      "cell_type": "code",
      "execution_count": 20,
      "metadata": {
        "id": "KoSbh2BGn9cZ",
        "outputId": "471fef98-00c4-45f0-ff96-cb0137d2d65e",
        "colab": {
          "base_uri": "https://localhost:8080/"
        }
      },
      "outputs": [
        {
          "output_type": "stream",
          "name": "stdout",
          "text": [
            "[[105.   105.  ]\n",
            " [123.   123.  ]\n",
            " [161.   161.  ]\n",
            " [168.   168.  ]\n",
            " [208.   208.  ]\n",
            " [101.49 101.49]\n",
            " [101.82 101.82]\n",
            " [102.58 102.58]\n",
            " [103.17 103.17]\n",
            " [103.74 103.74]\n",
            " [106.49 106.49]\n",
            " [106.77 106.77]\n",
            " [107.04 107.04]\n",
            " [108.04 108.04]\n",
            " [108.51 108.51]\n",
            " [109.22 109.22]\n",
            " [111.19 111.19]\n",
            " [111.64 111.64]\n",
            " [112.24 112.24]\n",
            " [112.29 112.29]\n",
            " [112.34 112.34]\n",
            " [112.5  112.5 ]\n",
            " [112.54 112.54]\n",
            " [112.99 112.99]\n",
            " [113.64 113.64]\n",
            " [113.79 113.79]\n",
            " [115.76 115.76]\n",
            " [117.01 117.01]\n",
            " [117.68 117.68]\n",
            " [117.76 117.76]\n",
            " [117.85 117.85]\n",
            " [118.1  118.1 ]\n",
            " [119.01 119.01]\n",
            " [119.65 119.65]\n",
            " [119.7  119.7 ]\n",
            " [119.89 119.89]\n",
            " [119.96 119.96]\n",
            " [120.1  120.1 ]\n",
            " [120.23 120.23]\n",
            " [120.45 120.45]\n",
            " [120.73 120.73]\n",
            " [121.23 121.23]\n",
            " [121.94 121.94]\n",
            " [122.06 122.06]\n",
            " [122.29 122.29]\n",
            " [122.36 122.36]\n",
            " [122.47 122.47]\n",
            " [122.5  122.5 ]\n",
            " [122.83 122.83]\n",
            " [122.86 122.86]\n",
            " [122.89 122.89]\n",
            " [123.19 123.19]\n",
            " [123.3  123.3 ]\n",
            " [123.4  123.4 ]\n",
            " [123.49 123.49]\n",
            " [124.16 124.16]\n",
            " [126.42 126.42]\n",
            " [128.11 128.11]\n",
            " [129.66 129.66]\n",
            " [130.24 130.24]\n",
            " [133.18 133.18]\n",
            " [133.82 133.82]\n",
            " [135.56 135.56]\n",
            " [138.99 138.99]\n",
            " [140.54 140.54]\n",
            " [143.08 143.08]\n",
            " [144.83 144.83]\n",
            " [148.42 148.42]\n",
            " [150.81 150.81]\n",
            " [153.9  153.9 ]\n",
            " [154.74 154.74]\n",
            " [155.33 155.33]\n",
            " [156.1  156.1 ]\n",
            " [158.15 158.15]\n",
            " [159.25 159.25]\n",
            " [159.4  159.4 ]\n",
            " [159.58 159.58]\n",
            " [159.59 159.59]\n",
            " [159.63 159.63]\n",
            " [159.65 159.65]\n",
            " [159.68 159.68]\n",
            " [159.74 159.74]\n",
            " [159.92 159.92]\n",
            " [160.07 160.07]\n",
            " [160.08 160.08]\n",
            " [160.38 160.38]\n",
            " [160.54 160.54]\n",
            " [161.99 161.99]\n",
            " [163.68 163.68]\n",
            " [163.87 163.87]\n",
            " [163.89 163.89]\n",
            " [163.93 163.93]\n",
            " [164.07 164.07]\n",
            " [164.16 164.16]\n",
            " [164.53 164.53]\n",
            " [164.59 164.59]\n",
            " [165.02 165.02]\n",
            " [165.61 165.61]\n",
            " [166.08 166.08]\n",
            " [166.76 166.76]\n",
            " [166.89 166.89]\n",
            " [166.9  166.9 ]\n",
            " [166.96 166.96]\n",
            " [166.97 166.97]\n",
            " [166.98 166.98]\n",
            " [166.99 166.99]\n",
            " [167.01 167.01]\n",
            " [167.05 167.05]\n",
            " [167.34 167.34]\n",
            " [167.37 167.37]\n",
            " [167.94 167.94]\n",
            " [167.95 167.95]\n",
            " [168.13 168.13]\n",
            " [168.21 168.21]\n",
            " [168.26 168.26]\n",
            " [168.43 168.43]\n",
            " [168.44 168.44]\n",
            " [168.59 168.59]\n",
            " [168.63 168.63]\n",
            " [168.99 168.99]\n",
            " [169.06 169.06]\n",
            " [169.24 169.24]\n",
            " [169.26 169.26]\n",
            " [169.31 169.31]\n",
            " [169.33 169.33]\n",
            " [169.51 169.51]\n",
            " [169.52 169.52]\n",
            " [169.78 169.78]\n",
            " [169.8  169.8 ]\n",
            " [169.82 169.82]\n",
            " [169.85 169.85]\n",
            " [169.97 169.97]\n",
            " [169.98 169.98]\n",
            " [170.03 170.03]\n",
            " [170.32 170.32]\n",
            " [170.45 170.45]\n",
            " [171.03 171.03]\n",
            " [171.04 171.04]\n",
            " [171.28 171.28]\n",
            " [171.42 171.42]\n",
            " [171.74 171.74]\n",
            " [171.91 171.91]\n",
            " [172.01 172.01]\n",
            " [173.01 173.01]\n",
            " [173.12 173.12]\n",
            " [173.16 173.16]\n",
            " [173.52 173.52]\n",
            " [173.56 173.56]\n",
            " [174.12 174.12]\n",
            " [174.72 174.72]\n",
            " [174.89 174.89]\n",
            " [174.94 174.94]\n",
            " [176.2  176.2 ]\n",
            " [176.35 176.35]\n",
            " [176.96 176.96]\n",
            " [177.58 177.58]\n",
            " [178.54 178.54]\n",
            " [178.8  178.8 ]\n",
            " [178.99 178.99]\n",
            " [179.31 179.31]\n",
            " [179.63 179.63]\n",
            " [181.01 181.01]\n",
            " [181.21 181.21]\n",
            " [182.51 182.51]\n",
            " [185.04 185.04]\n",
            " [189.72 189.72]\n",
            " [190.41 190.41]\n",
            " [197.68 197.68]\n",
            " [202.41 202.41]\n",
            " [204.35 204.35]\n",
            " [204.9  204.9 ]\n",
            " [204.96 204.96]\n",
            " [205.73 205.73]\n",
            " [206.29 206.29]\n",
            " [206.37 206.37]\n",
            " [206.89 206.89]\n",
            " [207.01 207.01]\n",
            " [207.84 207.84]\n",
            " [208.2  208.2 ]\n",
            " [209.13 209.13]\n",
            " [210.08 210.08]\n",
            " [210.19 210.19]\n",
            " [211.15 211.15]\n",
            " [211.91 211.91]\n",
            " [211.96 211.96]\n",
            " [211.99 211.99]\n",
            " [212.05 212.05]\n",
            " [212.46 212.46]\n",
            " [212.75 212.75]\n",
            " [213.13 213.13]\n",
            " [213.23 213.23]\n",
            " [213.45 213.45]\n",
            " [213.52 213.52]\n",
            " [213.53 213.53]\n",
            " [213.59 213.59]\n",
            " [213.75 213.75]\n",
            " [213.8  213.8 ]\n",
            " [213.81 213.81]\n",
            " [213.96 213.96]\n",
            " [214.05 214.05]\n",
            " [214.17 214.17]\n",
            " [214.21 214.21]\n",
            " [214.36 214.36]\n",
            " [214.44 214.44]\n",
            " [214.55 214.55]\n",
            " [214.69 214.69]\n",
            " [214.99 214.99]\n",
            " [215.16 215.16]\n",
            " [215.26 215.26]\n",
            " [215.29 215.29]\n",
            " [215.48 215.48]\n",
            " [215.78 215.78]\n",
            " [216.03 216.03]\n",
            " [216.32 216.32]\n",
            " [217.33 217.33]\n",
            " [217.58 217.58]\n",
            " [217.94 217.94]\n",
            " [218.11 218.11]\n",
            " [218.26 218.26]\n",
            " [218.37 218.37]\n",
            " [218.38 218.38]\n",
            " [218.68 218.68]\n",
            " [219.36 219.36]\n",
            " [219.5  219.5 ]\n",
            " [219.77 219.77]\n",
            " [ 91.98  91.98]\n",
            " [ 92.01  92.01]\n",
            " [ 92.19  92.19]\n",
            " [ 92.36  92.36]\n",
            " [ 92.76  92.76]\n",
            " [ 92.78  92.78]\n",
            " [ 93.39  93.39]\n",
            " [ 93.4   93.4 ]\n",
            " [ 93.63  93.63]\n",
            " [ 93.99  93.99]\n",
            " [ 94.33  94.33]\n",
            " [ 94.36  94.36]\n",
            " [ 94.43  94.43]\n",
            " [ 94.44  94.44]\n",
            " [ 94.71  94.71]\n",
            " [ 94.97  94.97]\n",
            " [ 97.17  97.17]\n",
            " [ 99.35  99.35]\n",
            " [ 99.4   99.4 ]]\n"
          ]
        }
      ],
      "source": [
        "X = dados[['Preço','Preço']].values\n",
        "print(X)"
      ]
    },
    {
      "cell_type": "code",
      "execution_count": 21,
      "metadata": {
        "id": "QJZ7E7hEn9cc",
        "outputId": "9279016a-06c5-46ec-d1d9-7a1cd49db7fe",
        "colab": {
          "base_uri": "https://localhost:8080/"
        }
      },
      "outputs": [
        {
          "output_type": "stream",
          "name": "stdout",
          "text": [
            "[[0.47777222 0.47777222]\n",
            " [0.55967602 0.55967602]\n",
            " [0.73258407 0.73258407]\n",
            " [0.76443555 0.76443555]\n",
            " [0.94644401 0.94644401]\n",
            " [0.46180097 0.46180097]\n",
            " [0.46330254 0.46330254]\n",
            " [0.4667607  0.4667607 ]\n",
            " [0.46944533 0.46944533]\n",
            " [0.47203895 0.47203895]\n",
            " [0.48455203 0.48455203]\n",
            " [0.48582609 0.48582609]\n",
            " [0.48705465 0.48705465]\n",
            " [0.49160486 0.49160486]\n",
            " [0.49374346 0.49374346]\n",
            " [0.49697411 0.49697411]\n",
            " [0.50593803 0.50593803]\n",
            " [0.50798562 0.50798562]\n",
            " [0.51071575 0.51071575]\n",
            " [0.51094326 0.51094326]\n",
            " [0.51117077 0.51117077]\n",
            " [0.5118988  0.5118988 ]\n",
            " [0.51208081 0.51208081]\n",
            " [0.51412841 0.51412841]\n",
            " [0.51708604 0.51708604]\n",
            " [0.51776858 0.51776858]\n",
            " [0.52673249 0.52673249]\n",
            " [0.53242026 0.53242026]\n",
            " [0.5354689  0.5354689 ]\n",
            " [0.53583292 0.53583292]\n",
            " [0.53624244 0.53624244]\n",
            " [0.53737999 0.53737999]\n",
            " [0.54152068 0.54152068]\n",
            " [0.54443282 0.54443282]\n",
            " [0.54466033 0.54466033]\n",
            " [0.54552487 0.54552487]\n",
            " [0.54584338 0.54584338]\n",
            " [0.54648041 0.54648041]\n",
            " [0.54707194 0.54707194]\n",
            " [0.54807299 0.54807299]\n",
            " [0.54934704 0.54934704]\n",
            " [0.55162215 0.55162215]\n",
            " [0.5548528  0.5548528 ]\n",
            " [0.55539883 0.55539883]\n",
            " [0.55644537 0.55644537]\n",
            " [0.55676389 0.55676389]\n",
            " [0.55726441 0.55726441]\n",
            " [0.55740092 0.55740092]\n",
            " [0.55890249 0.55890249]\n",
            " [0.559039   0.559039  ]\n",
            " [0.5591755  0.5591755 ]\n",
            " [0.56054057 0.56054057]\n",
            " [0.56104109 0.56104109]\n",
            " [0.56149611 0.56149611]\n",
            " [0.56190563 0.56190563]\n",
            " [0.56495427 0.56495427]\n",
            " [0.57523775 0.57523775]\n",
            " [0.58292761 0.58292761]\n",
            " [0.58998043 0.58998043]\n",
            " [0.59261956 0.59261956]\n",
            " [0.60599718 0.60599718]\n",
            " [0.60890931 0.60890931]\n",
            " [0.61682668 0.61682668]\n",
            " [0.63243391 0.63243391]\n",
            " [0.63948674 0.63948674]\n",
            " [0.65104427 0.65104427]\n",
            " [0.65900714 0.65900714]\n",
            " [0.6753424  0.6753424 ]\n",
            " [0.68621741 0.68621741]\n",
            " [0.70027756 0.70027756]\n",
            " [0.70409974 0.70409974]\n",
            " [0.70678437 0.70678437]\n",
            " [0.71028803 0.71028803]\n",
            " [0.71961596 0.71961596]\n",
            " [0.72462119 0.72462119]\n",
            " [0.72530373 0.72530373]\n",
            " [0.72612276 0.72612276]\n",
            " [0.72616827 0.72616827]\n",
            " [0.72635028 0.72635028]\n",
            " [0.72644128 0.72644128]\n",
            " [0.72657779 0.72657779]\n",
            " [0.7268508  0.7268508 ]\n",
            " [0.72766984 0.72766984]\n",
            " [0.72835237 0.72835237]\n",
            " [0.72839787 0.72839787]\n",
            " [0.72976293 0.72976293]\n",
            " [0.73049097 0.73049097]\n",
            " [0.73708877 0.73708877]\n",
            " [0.74477863 0.74477863]\n",
            " [0.74564317 0.74564317]\n",
            " [0.74573418 0.74573418]\n",
            " [0.74591619 0.74591619]\n",
            " [0.74655321 0.74655321]\n",
            " [0.74696273 0.74696273]\n",
            " [0.74864631 0.74864631]\n",
            " [0.74891932 0.74891932]\n",
            " [0.75087592 0.75087592]\n",
            " [0.75356054 0.75356054]\n",
            " [0.75569914 0.75569914]\n",
            " [0.75879328 0.75879328]\n",
            " [0.75938481 0.75938481]\n",
            " [0.75943031 0.75943031]\n",
            " [0.75970333 0.75970333]\n",
            " [0.75974883 0.75974883]\n",
            " [0.75979433 0.75979433]\n",
            " [0.75983983 0.75983983]\n",
            " [0.75993084 0.75993084]\n",
            " [0.76011285 0.76011285]\n",
            " [0.76143241 0.76143241]\n",
            " [0.76156891 0.76156891]\n",
            " [0.76416253 0.76416253]\n",
            " [0.76420804 0.76420804]\n",
            " [0.76502707 0.76502707]\n",
            " [0.76539109 0.76539109]\n",
            " [0.7656186  0.7656186 ]\n",
            " [0.76639214 0.76639214]\n",
            " [0.76643764 0.76643764]\n",
            " [0.76712017 0.76712017]\n",
            " [0.76730218 0.76730218]\n",
            " [0.76894026 0.76894026]\n",
            " [0.76925877 0.76925877]\n",
            " [0.77007781 0.77007781]\n",
            " [0.77016881 0.77016881]\n",
            " [0.77039632 0.77039632]\n",
            " [0.77048733 0.77048733]\n",
            " [0.77130637 0.77130637]\n",
            " [0.77135187 0.77135187]\n",
            " [0.77253492 0.77253492]\n",
            " [0.77262593 0.77262593]\n",
            " [0.77271693 0.77271693]\n",
            " [0.77285344 0.77285344]\n",
            " [0.77339946 0.77339946]\n",
            " [0.77344497 0.77344497]\n",
            " [0.77367248 0.77367248]\n",
            " [0.77499204 0.77499204]\n",
            " [0.77558356 0.77558356]\n",
            " [0.77822269 0.77822269]\n",
            " [0.77826819 0.77826819]\n",
            " [0.77936024 0.77936024]\n",
            " [0.77999727 0.77999727]\n",
            " [0.78145334 0.78145334]\n",
            " [0.78222687 0.78222687]\n",
            " [0.78268189 0.78268189]\n",
            " [0.78723211 0.78723211]\n",
            " [0.78773263 0.78773263]\n",
            " [0.78791464 0.78791464]\n",
            " [0.78955271 0.78955271]\n",
            " [0.78973472 0.78973472]\n",
            " [0.79228284 0.79228284]\n",
            " [0.79501297 0.79501297]\n",
            " [0.7957865  0.7957865 ]\n",
            " [0.79601401 0.79601401]\n",
            " [0.80174728 0.80174728]\n",
            " [0.80242981 0.80242981]\n",
            " [0.80520544 0.80520544]\n",
            " [0.80802657 0.80802657]\n",
            " [0.81239478 0.81239478]\n",
            " [0.81357783 0.81357783]\n",
            " [0.81444237 0.81444237]\n",
            " [0.81589844 0.81589844]\n",
            " [0.81735451 0.81735451]\n",
            " [0.8236338  0.8236338 ]\n",
            " [0.82454384 0.82454384]\n",
            " [0.83045912 0.83045912]\n",
            " [0.84197115 0.84197115]\n",
            " [0.86326614 0.86326614]\n",
            " [0.86640579 0.86640579]\n",
            " [0.89948583 0.89948583]\n",
            " [0.92100833 0.92100833]\n",
            " [0.92983574 0.92983574]\n",
            " [0.93233835 0.93233835]\n",
            " [0.93261137 0.93261137]\n",
            " [0.93611503 0.93611503]\n",
            " [0.93866315 0.93866315]\n",
            " [0.93902716 0.93902716]\n",
            " [0.94139327 0.94139327]\n",
            " [0.9419393  0.9419393 ]\n",
            " [0.94571598 0.94571598]\n",
            " [0.94735405 0.94735405]\n",
            " [0.95158575 0.95158575]\n",
            " [0.95590845 0.95590845]\n",
            " [0.95640897 0.95640897]\n",
            " [0.96077718 0.96077718]\n",
            " [0.96423534 0.96423534]\n",
            " [0.96446285 0.96446285]\n",
            " [0.96459935 0.96459935]\n",
            " [0.96487237 0.96487237]\n",
            " [0.96673795 0.96673795]\n",
            " [0.96805751 0.96805751]\n",
            " [0.9697866  0.9697866 ]\n",
            " [0.97024162 0.97024162]\n",
            " [0.97124266 0.97124266]\n",
            " [0.97156118 0.97156118]\n",
            " [0.97160668 0.97160668]\n",
            " [0.97187969 0.97187969]\n",
            " [0.97260773 0.97260773]\n",
            " [0.97283524 0.97283524]\n",
            " [0.97288074 0.97288074]\n",
            " [0.97356327 0.97356327]\n",
            " [0.97397279 0.97397279]\n",
            " [0.97451882 0.97451882]\n",
            " [0.97470082 0.97470082]\n",
            " [0.97538336 0.97538336]\n",
            " [0.97574737 0.97574737]\n",
            " [0.9762479  0.9762479 ]\n",
            " [0.97688493 0.97688493]\n",
            " [0.97824999 0.97824999]\n",
            " [0.97902352 0.97902352]\n",
            " [0.97947855 0.97947855]\n",
            " [0.97961505 0.97961505]\n",
            " [0.98047959 0.98047959]\n",
            " [0.98184466 0.98184466]\n",
            " [0.98298221 0.98298221]\n",
            " [0.98430177 0.98430177]\n",
            " [0.98889748 0.98889748]\n",
            " [0.99003504 0.99003504]\n",
            " [0.99167311 0.99167311]\n",
            " [0.99244665 0.99244665]\n",
            " [0.99312918 0.99312918]\n",
            " [0.9936297  0.9936297 ]\n",
            " [0.99367521 0.99367521]\n",
            " [0.99504027 0.99504027]\n",
            " [0.99813441 0.99813441]\n",
            " [0.99877144 0.99877144]\n",
            " [1.         1.        ]\n",
            " [0.41852846 0.41852846]\n",
            " [0.41866497 0.41866497]\n",
            " [0.41948401 0.41948401]\n",
            " [0.42025754 0.42025754]\n",
            " [0.42207763 0.42207763]\n",
            " [0.42216863 0.42216863]\n",
            " [0.42494426 0.42494426]\n",
            " [0.42498976 0.42498976]\n",
            " [0.42603631 0.42603631]\n",
            " [0.42767439 0.42767439]\n",
            " [0.42922146 0.42922146]\n",
            " [0.42935797 0.42935797]\n",
            " [0.42967648 0.42967648]\n",
            " [0.42972198 0.42972198]\n",
            " [0.43095054 0.43095054]\n",
            " [0.43213359 0.43213359]\n",
            " [0.44214406 0.44214406]\n",
            " [0.45206352 0.45206352]\n",
            " [0.45229103 0.45229103]]\n"
          ]
        }
      ],
      "source": [
        "X = X/np.amax(X,axis=0)\n",
        "print(X)"
      ]
    },
    {
      "cell_type": "code",
      "execution_count": 22,
      "metadata": {
        "id": "ZpW3vBC-n9cf",
        "outputId": "2033a0db-ad39-49b6-f634-98cbfdcfa953",
        "colab": {
          "base_uri": "https://localhost:8080/"
        }
      },
      "outputs": [
        {
          "output_type": "stream",
          "name": "stdout",
          "text": [
            "[0.28571429 0.53571429 0.64285714 0.53571429 1.         0.5\n",
            " 0.67857143 0.57142857 0.75       0.60714286]\n"
          ]
        }
      ],
      "source": [
        "ymax=np.amax(y)\n",
        "y = y/ymax\n",
        "print(y[0:10])"
      ]
    },
    {
      "cell_type": "markdown",
      "metadata": {
        "id": "lcjs64Fun9cj"
      },
      "source": [
        "### Funções de ativação"
      ]
    },
    {
      "cell_type": "code",
      "execution_count": 23,
      "metadata": {
        "id": "8oxMlmxrn9cl"
      },
      "outputs": [],
      "source": [
        "def sigmoid(Soma):\n",
        "    return 1/(1+np.exp(-Soma))\n",
        "\n",
        "def relu(Soma):\n",
        "    return np.maximum(0,Soma)"
      ]
    },
    {
      "cell_type": "markdown",
      "metadata": {
        "id": "B4LVPDmCn9cm"
      },
      "source": [
        "### Criando a estrutura da rede"
      ]
    },
    {
      "cell_type": "code",
      "execution_count": 24,
      "metadata": {
        "id": "aH2uiMVRn9co"
      },
      "outputs": [],
      "source": [
        "arquitetura = [\n",
        "    {\"dim_entrada\": 2, \"dim_saida\": 50, \"ativacao\": \"relu\"},\n",
        "    {\"dim_entrada\": 50, \"dim_saida\": 1, \"ativacao\": \"sigmoid\"},\n",
        "]"
      ]
    },
    {
      "cell_type": "markdown",
      "metadata": {
        "id": "vug6AokSn9cq"
      },
      "source": [
        "### Pesos e viés"
      ]
    },
    {
      "cell_type": "code",
      "execution_count": 25,
      "metadata": {
        "id": "F2P8enkUn9cs"
      },
      "outputs": [],
      "source": [
        "def inicia_camadas(arquitetura, seed = 99):\n",
        "    # inicia os valores aleatórios\n",
        "    np.random.seed(seed)\n",
        "    # numero de camadas da rede neural\n",
        "    numero_de_camadas = len(arquitetura)\n",
        "    # inicia armazenamento de parametros\n",
        "    valores_parametros = {}\n",
        "    \n",
        "    # itera nas camadas da rede\n",
        "    for indice, camada in enumerate(arquitetura):\n",
        "        \n",
        "        indice_camada = indice + 1\n",
        "        \n",
        "        # extrai o numero de nodos nas camadas\n",
        "        tamanho_camada_entrada = camada[\"dim_entrada\"]\n",
        "        tamanho_camada_saida = camada[\"dim_saida\"]\n",
        "        \n",
        "        # inicia os valores na matriz de pesos P\n",
        "        # e o vetor de viés ou bias b\n",
        "        valores_parametros['P' + str(indice_camada)] = np.random.randn(\n",
        "            tamanho_camada_saida, tamanho_camada_entrada)  * 0.1\n",
        "        valores_parametros['b' + str(indice_camada)] = np.random.randn(\n",
        "            tamanho_camada_saida, 1) * 0.1\n",
        "        \n",
        "    return valores_parametros"
      ]
    },
    {
      "cell_type": "markdown",
      "metadata": {
        "id": "gUJYC40Hn9cu"
      },
      "source": [
        "### Propagação da rede"
      ]
    },
    {
      "cell_type": "code",
      "execution_count": 26,
      "metadata": {
        "id": "uhzkQ4WLn9cv"
      },
      "outputs": [],
      "source": [
        "def propaga_uma_camada(Ativado_anterior, Pesos_atual, b_atual, ativacao=\"relu\"):\n",
        "    # cálculo da entrada para a função de ativação\n",
        "    Saida_atual = np.dot(Pesos_atual, Ativado_anterior) + b_atual\n",
        "    \n",
        "    # selecção da função de ativação\n",
        "    if ativacao is \"relu\":\n",
        "        func_ativacao = relu\n",
        "    elif ativacao is \"sigmoid\":\n",
        "        func_ativacao = sigmoid\n",
        "    else:\n",
        "        raise Exception('Ainda não implementamos essa funcao')\n",
        "        \n",
        "    # retorna a ativação calculada Ativado_atual e a matriz intermediária Saida\n",
        "    return func_ativacao(Saida_atual), Saida_atual"
      ]
    },
    {
      "cell_type": "code",
      "execution_count": 27,
      "metadata": {
        "id": "2_t6w__hn9cx"
      },
      "outputs": [],
      "source": [
        "def propaga_total(X, valores_parametros, arquitetura):\n",
        "    # memoria temporaria para a retropropagacao\n",
        "    memoria = {}\n",
        "    # O vetor X é a ativação para a camada 0 \n",
        "    Ativado_atual = X\n",
        "    \n",
        "    # iterações para as camadas\n",
        "    for indice, camada in enumerate(arquitetura):\n",
        "        # a numeração das camadas começa de 1\n",
        "        indice_camada = indice + 1\n",
        "        # utiliza a ativação da iteração anterior\n",
        "        Ativado_anterior = Ativado_atual\n",
        "        \n",
        "        # extrai a função de ativação para a camada atual\n",
        "        func_ativacao_atual = camada[\"ativacao\"]\n",
        "        # extrai os pesos da camada atual\n",
        "        Pesos_atual = valores_parametros[\"P\" + str(indice_camada)]\n",
        "        # extrai o bias para a camada atual\n",
        "        b_atual = valores_parametros[\"b\" + str(indice_camada)]\n",
        "        # cálculo da ativação para a camada atual\n",
        "        Ativado_atual, Saida_atual = propaga_uma_camada(Ativado_anterior, Pesos_atual, b_atual, func_ativacao_atual)\n",
        "        \n",
        "        # salca os valores calculados na memória\n",
        "        memoria[\"A\" + str(indice)] = Ativado_anterior\n",
        "        memoria[\"Z\" + str(indice_camada)] = Saida_atual\n",
        "       \n",
        "    # retorna o vetor predito e um dicionário contendo os valores intermediários\n",
        "    return Ativado_atual, memoria"
      ]
    },
    {
      "cell_type": "markdown",
      "metadata": {
        "id": "J1sF09f4n9c3"
      },
      "source": [
        "### Testando a rede"
      ]
    },
    {
      "cell_type": "code",
      "execution_count": 29,
      "metadata": {
        "id": "7O4prl3nn9c4"
      },
      "outputs": [],
      "source": [
        "valores_parametros = inicia_camadas(arquitetura, seed = 99)\n",
        "y_estimado, memoria = propaga_total(np.transpose(X), valores_parametros, arquitetura)"
      ]
    },
    {
      "cell_type": "code",
      "execution_count": 30,
      "metadata": {
        "id": "UNJz2N4Zn9c6",
        "outputId": "970a8972-b64b-455c-ebe6-3f616b64cc34",
        "colab": {
          "base_uri": "https://localhost:8080/"
        }
      },
      "outputs": [
        {
          "output_type": "execute_result",
          "data": {
            "text/plain": [
              "0.5263943787184663"
            ]
          },
          "metadata": {},
          "execution_count": 30
        }
      ],
      "source": [
        "y_estimado[0,0]*ymax"
      ]
    },
    {
      "cell_type": "code",
      "execution_count": 31,
      "metadata": {
        "id": "uMhkA5Hgn9c9",
        "outputId": "5649f89e-03db-496e-ba4e-c173fdeb1918",
        "colab": {
          "base_uri": "https://localhost:8080/"
        }
      },
      "outputs": [
        {
          "output_type": "execute_result",
          "data": {
            "text/plain": [
              "0.2857142857142857"
            ]
          },
          "metadata": {},
          "execution_count": 31
        }
      ],
      "source": [
        "y[0]*ymax"
      ]
    },
    {
      "cell_type": "markdown",
      "metadata": {
        "id": "OMRcgNMcn9c_"
      },
      "source": [
        "### Atualização dos pesos"
      ]
    },
    {
      "cell_type": "code",
      "execution_count": 32,
      "metadata": {
        "id": "LpaRE5ICn9dA"
      },
      "outputs": [],
      "source": [
        "def atualiza(valores_parametros, gradidentes, arquitetura, taxa_aprendizagem):\n",
        "\n",
        "    # iterações pelas camadas\n",
        "    for indice_camada, camada in enumerate(arquitetura, 1):\n",
        "        valores_parametros[\"P\" + str(indice_camada)] -= taxa_aprendizagem * gradidentes[\"dP\" + str(indice_camada)]        \n",
        "        valores_parametros[\"b\" + str(indice_camada)] -= taxa_aprendizagem * gradidentes[\"db\" + str(indice_camada)]\n",
        "\n",
        "    return valores_parametros;"
      ]
    },
    {
      "cell_type": "markdown",
      "metadata": {
        "id": "gGQ47_mrn9dB"
      },
      "source": [
        "### Função de custo"
      ]
    },
    {
      "cell_type": "code",
      "execution_count": 33,
      "metadata": {
        "id": "cPRuGXREn9dB"
      },
      "outputs": [],
      "source": [
        "def valor_de_custo(Y_predito, Y):\n",
        "    # numero_de_exemplos\n",
        "    m = Y_predito.shape[1]\n",
        "    \n",
        "    custo = -1 / m * (np.dot(Y, np.log(Y_predito).T) + np.dot(1 - Y, np.log(1 - Y_predito).T))\n",
        "    return np.squeeze(custo)"
      ]
    },
    {
      "cell_type": "markdown",
      "metadata": {
        "id": "U_WqLKBMn9dD"
      },
      "source": [
        "### Retropropagação"
      ]
    },
    {
      "cell_type": "code",
      "execution_count": 34,
      "metadata": {
        "id": "yvfW4DLan9dE"
      },
      "outputs": [],
      "source": [
        "def retropropagacao_total(Y_predito, Y, memoria, valores_parametros, arquitetura):\n",
        "   \n",
        "    gradientes = {}\n",
        "    \n",
        "    # numero de exemplos\n",
        "    #m = Y.shape[1]\n",
        "    # para garantir que os dois vetores tenham a mesma dimensão\n",
        "    Y = Y.reshape(Y_predito.shape)\n",
        "    \n",
        "    # inicia o algoritmo de gradiente descendente\n",
        "    dAtivado_anterior = - (np.divide(Y, Y_predito) - np.divide(1 - Y, 1 - Y_predito));\n",
        "    \n",
        "    for indice_camada_anterior, camada in reversed(list(enumerate(arquitetura))):\n",
        "        \n",
        "        indice_camada_atual = indice_camada_anterior + 1\n",
        "        # Função de ativação para a camada atual\n",
        "        \n",
        "        funcao_ativao_atual = camada[\"ativacao\"]\n",
        "        \n",
        "        dAtivado_atual = dAtivado_anterior\n",
        "        \n",
        "        Ativado_anterior = memoria[\"A\" + str(indice_camada_anterior)]\n",
        "        Saida_atual = memoria[\"Z\" + str(indice_camada_atual)]\n",
        "        \n",
        "        Pesos_atual = valores_parametros[\"P\" + str(indice_camada_atual)]\n",
        "        b_atual = valores_parametros[\"b\" + str(indice_camada_atual)]\n",
        "        \n",
        "        dAtivado_anterior, dPesos_atual, db_atual = retropropagacao_uma_camada(\n",
        "            dAtivado_atual, Pesos_atual, b_atual, Saida_atual, Ativado_anterior, funcao_ativao_atual)\n",
        "        \n",
        "        gradientes[\"dP\" + str(indice_camada_atual)] = dPesos_atual\n",
        "        gradientes[\"db\" + str(indice_camada_atual)] = db_atual\n",
        "    \n",
        "    return gradientes"
      ]
    },
    {
      "cell_type": "code",
      "execution_count": 35,
      "metadata": {
        "id": "yo7RcybOn9dG"
      },
      "outputs": [],
      "source": [
        "def sigmoid_retro(dAtivado, Saida):\n",
        "    sig = sigmoid(Saida)\n",
        "    return dAtivado * sig * (1 - sig)\n",
        "\n",
        "def relu_retro(dAtivado, Saida):\n",
        "    dSaida = np.array(dAtivado, copy = True)\n",
        "    dSaida[Saida <= 0] = 0;\n",
        "    return dSaida;"
      ]
    },
    {
      "cell_type": "code",
      "execution_count": 36,
      "metadata": {
        "id": "2pXhvZSAn9dI"
      },
      "outputs": [],
      "source": [
        "def retropropagacao_uma_camada(dAtivado_atual, Pesos_atual, b_atual, Saida_atual, Ativado_anterior, ativacao=\"relu\"):\n",
        "    # número de exemplos\n",
        "    m = Ativado_anterior.shape[1]\n",
        "    \n",
        "    # seleção função de ativação\n",
        "    if ativacao is \"relu\":\n",
        "        func_ativacao_retro = relu_retro\n",
        "    elif ativacao is \"sigmoid\":\n",
        "        func_ativacao_retro = sigmoid_retro\n",
        "    else:\n",
        "        raise Exception('Ainda não implementamos essa funcao')\n",
        "    \n",
        "    # derivada da função de ativação\n",
        "    dSaida_atual = func_ativacao_retro(dAtivado_atual, Saida_atual)\n",
        "    \n",
        "    # derivada da matriz de Pesos\n",
        "    dPesos_atual = np.dot(dSaida_atual, Ativado_anterior.T) / m\n",
        "    # derivada do vetor b\n",
        "    db_atual = np.sum(dSaida_atual, axis=1, keepdims=True) / m\n",
        "    # derivada da matriz A_anterior\n",
        "    dAtivado_anterior = np.dot(Pesos_atual.T, dSaida_atual)\n",
        "\n",
        "    return dAtivado_anterior, dPesos_atual, db_atual"
      ]
    },
    {
      "cell_type": "markdown",
      "metadata": {
        "id": "qHzMFH5mn9dK"
      },
      "source": [
        "### Treinamento"
      ]
    },
    {
      "cell_type": "code",
      "execution_count": 37,
      "metadata": {
        "id": "kYftXqLEn9dL"
      },
      "outputs": [],
      "source": [
        "def treino(X, Y,X_teste,Y_teste, arquitetura, epocas, taxa_aprendizagem):\n",
        "    # Inicia os parâmetros da rede neural\n",
        "    valores_parametros = inicia_camadas(arquitetura, 2)\n",
        "    # Listas que vão guardar o progresso da aprendizagem da rede \n",
        "    historia_custo = []\n",
        "    historia_custo_teste = []\n",
        "   \n",
        "    \n",
        "    # Atualiza a cada época\n",
        "    for i in range(epocas):\n",
        "        # Propaga a rede - Foward propagation\n",
        "        Y_predito, memoria = propaga_total(X, valores_parametros, arquitetura)\n",
        "        \n",
        "        Y_predito_teste, memoria2 = propaga_total(X_teste, valores_parametros, \n",
        "                                                  arquitetura)\n",
        "        \n",
        "        # calcula as métricas e salva nas listas de história\n",
        "        custo = valor_de_custo(Y_predito, Y)\n",
        "        historia_custo.append(custo)\n",
        "        custo_teste = valor_de_custo(Y_predito_teste, Y_teste)\n",
        "        historia_custo_teste.append(custo_teste)\n",
        "        \n",
        "        \n",
        "        # Retropropagação - Backpropagation\n",
        "        gradientes = retropropagacao_total(Y_predito, Y, memoria, \n",
        "                                           valores_parametros, arquitetura)\n",
        "        # Atualiza os pesos\n",
        "        valores_parametros = atualiza(valores_parametros, gradientes, \n",
        "                                      arquitetura, taxa_aprendizagem)\n",
        "        \n",
        "        if(i % 50 == 0):\n",
        "            \n",
        "            print(\"Iteração: {:05} - custo: {:.5f} \".format(i, custo))\n",
        "            \n",
        "            \n",
        "    return valores_parametros, historia_custo, historia_custo_teste"
      ]
    },
    {
      "cell_type": "code",
      "execution_count": 38,
      "metadata": {
        "id": "pGWK4fohn9dM"
      },
      "outputs": [],
      "source": [
        "from sklearn.model_selection import train_test_split"
      ]
    },
    {
      "cell_type": "code",
      "execution_count": 39,
      "metadata": {
        "id": "EbpzEaFSn9dN"
      },
      "outputs": [],
      "source": [
        "X_treino, X_teste, y_treino, y_teste = train_test_split( X, y, test_size=0.43, random_state=42)"
      ]
    },
    {
      "cell_type": "code",
      "execution_count": 40,
      "metadata": {
        "id": "K450wLl0n9dO",
        "outputId": "db6f4f4b-7741-4adc-dd4f-25d4461b748e",
        "colab": {
          "base_uri": "https://localhost:8080/"
        }
      },
      "outputs": [
        {
          "output_type": "stream",
          "name": "stdout",
          "text": [
            "Iteração: 00000 - custo: 0.68837 \n",
            "Iteração: 00050 - custo: 0.67174 \n",
            "Iteração: 00100 - custo: 0.66255 \n",
            "Iteração: 00150 - custo: 0.65743 \n",
            "Iteração: 00200 - custo: 0.65459 \n",
            "Iteração: 00250 - custo: 0.65303 \n",
            "Iteração: 00300 - custo: 0.65218 \n",
            "Iteração: 00350 - custo: 0.65171 \n",
            "Iteração: 00400 - custo: 0.65144 \n",
            "Iteração: 00450 - custo: 0.65128 \n",
            "Iteração: 00500 - custo: 0.65117 \n",
            "Iteração: 00550 - custo: 0.65109 \n",
            "Iteração: 00600 - custo: 0.65104 \n",
            "Iteração: 00650 - custo: 0.65099 \n",
            "Iteração: 00700 - custo: 0.65096 \n",
            "Iteração: 00750 - custo: 0.65091 \n",
            "Iteração: 00800 - custo: 0.65086 \n",
            "Iteração: 00850 - custo: 0.65082 \n",
            "Iteração: 00900 - custo: 0.65078 \n",
            "Iteração: 00950 - custo: 0.65075 \n",
            "Iteração: 01000 - custo: 0.65072 \n",
            "Iteração: 01050 - custo: 0.65069 \n",
            "Iteração: 01100 - custo: 0.65066 \n",
            "Iteração: 01150 - custo: 0.65063 \n",
            "Iteração: 01200 - custo: 0.65060 \n",
            "Iteração: 01250 - custo: 0.65058 \n",
            "Iteração: 01300 - custo: 0.65055 \n",
            "Iteração: 01350 - custo: 0.65052 \n",
            "Iteração: 01400 - custo: 0.65049 \n",
            "Iteração: 01450 - custo: 0.65046 \n",
            "Iteração: 01500 - custo: 0.65043 \n",
            "Iteração: 01550 - custo: 0.65041 \n",
            "Iteração: 01600 - custo: 0.65038 \n",
            "Iteração: 01650 - custo: 0.65035 \n",
            "Iteração: 01700 - custo: 0.65032 \n",
            "Iteração: 01750 - custo: 0.65029 \n",
            "Iteração: 01800 - custo: 0.65027 \n",
            "Iteração: 01850 - custo: 0.65024 \n",
            "Iteração: 01900 - custo: 0.65021 \n",
            "Iteração: 01950 - custo: 0.65019 \n",
            "Iteração: 02000 - custo: 0.65016 \n",
            "Iteração: 02050 - custo: 0.65013 \n",
            "Iteração: 02100 - custo: 0.65011 \n",
            "Iteração: 02150 - custo: 0.65008 \n",
            "Iteração: 02200 - custo: 0.65005 \n",
            "Iteração: 02250 - custo: 0.65003 \n",
            "Iteração: 02300 - custo: 0.65000 \n",
            "Iteração: 02350 - custo: 0.64998 \n",
            "Iteração: 02400 - custo: 0.64995 \n",
            "Iteração: 02450 - custo: 0.64993 \n",
            "Iteração: 02500 - custo: 0.64990 \n",
            "Iteração: 02550 - custo: 0.64987 \n",
            "Iteração: 02600 - custo: 0.64985 \n",
            "Iteração: 02650 - custo: 0.64982 \n",
            "Iteração: 02700 - custo: 0.64980 \n",
            "Iteração: 02750 - custo: 0.64977 \n",
            "Iteração: 02800 - custo: 0.64975 \n",
            "Iteração: 02850 - custo: 0.64973 \n",
            "Iteração: 02900 - custo: 0.64970 \n",
            "Iteração: 02950 - custo: 0.64968 \n",
            "Iteração: 03000 - custo: 0.64965 \n",
            "Iteração: 03050 - custo: 0.64963 \n",
            "Iteração: 03100 - custo: 0.64961 \n",
            "Iteração: 03150 - custo: 0.64958 \n",
            "Iteração: 03200 - custo: 0.64956 \n",
            "Iteração: 03250 - custo: 0.64954 \n",
            "Iteração: 03300 - custo: 0.64951 \n",
            "Iteração: 03350 - custo: 0.64949 \n",
            "Iteração: 03400 - custo: 0.64947 \n",
            "Iteração: 03450 - custo: 0.64944 \n",
            "Iteração: 03500 - custo: 0.64942 \n",
            "Iteração: 03550 - custo: 0.64940 \n",
            "Iteração: 03600 - custo: 0.64937 \n",
            "Iteração: 03650 - custo: 0.64935 \n",
            "Iteração: 03700 - custo: 0.64933 \n",
            "Iteração: 03750 - custo: 0.64931 \n",
            "Iteração: 03800 - custo: 0.64929 \n",
            "Iteração: 03850 - custo: 0.64926 \n",
            "Iteração: 03900 - custo: 0.64924 \n",
            "Iteração: 03950 - custo: 0.64922 \n",
            "Iteração: 04000 - custo: 0.64920 \n",
            "Iteração: 04050 - custo: 0.64917 \n",
            "Iteração: 04100 - custo: 0.64915 \n",
            "Iteração: 04150 - custo: 0.64913 \n",
            "Iteração: 04200 - custo: 0.64911 \n",
            "Iteração: 04250 - custo: 0.64909 \n",
            "Iteração: 04300 - custo: 0.64907 \n",
            "Iteração: 04350 - custo: 0.64905 \n",
            "Iteração: 04400 - custo: 0.64902 \n",
            "Iteração: 04450 - custo: 0.64900 \n",
            "Iteração: 04500 - custo: 0.64898 \n",
            "Iteração: 04550 - custo: 0.64896 \n",
            "Iteração: 04600 - custo: 0.64894 \n",
            "Iteração: 04650 - custo: 0.64892 \n",
            "Iteração: 04700 - custo: 0.64890 \n",
            "Iteração: 04750 - custo: 0.64888 \n",
            "Iteração: 04800 - custo: 0.64886 \n",
            "Iteração: 04850 - custo: 0.64884 \n",
            "Iteração: 04900 - custo: 0.64882 \n",
            "Iteração: 04950 - custo: 0.64880 \n",
            "Iteração: 05000 - custo: 0.64878 \n",
            "Iteração: 05050 - custo: 0.64876 \n",
            "Iteração: 05100 - custo: 0.64875 \n",
            "Iteração: 05150 - custo: 0.64873 \n",
            "Iteração: 05200 - custo: 0.64871 \n",
            "Iteração: 05250 - custo: 0.64869 \n",
            "Iteração: 05300 - custo: 0.64867 \n",
            "Iteração: 05350 - custo: 0.64865 \n",
            "Iteração: 05400 - custo: 0.64864 \n",
            "Iteração: 05450 - custo: 0.64862 \n",
            "Iteração: 05500 - custo: 0.64860 \n",
            "Iteração: 05550 - custo: 0.64858 \n",
            "Iteração: 05600 - custo: 0.64857 \n",
            "Iteração: 05650 - custo: 0.64855 \n",
            "Iteração: 05700 - custo: 0.64853 \n",
            "Iteração: 05750 - custo: 0.64851 \n",
            "Iteração: 05800 - custo: 0.64850 \n",
            "Iteração: 05850 - custo: 0.64848 \n",
            "Iteração: 05900 - custo: 0.64846 \n",
            "Iteração: 05950 - custo: 0.64845 \n",
            "Iteração: 06000 - custo: 0.64843 \n",
            "Iteração: 06050 - custo: 0.64841 \n",
            "Iteração: 06100 - custo: 0.64840 \n",
            "Iteração: 06150 - custo: 0.64838 \n",
            "Iteração: 06200 - custo: 0.64837 \n",
            "Iteração: 06250 - custo: 0.64835 \n",
            "Iteração: 06300 - custo: 0.64833 \n",
            "Iteração: 06350 - custo: 0.64832 \n",
            "Iteração: 06400 - custo: 0.64830 \n",
            "Iteração: 06450 - custo: 0.64829 \n",
            "Iteração: 06500 - custo: 0.64827 \n",
            "Iteração: 06550 - custo: 0.64826 \n",
            "Iteração: 06600 - custo: 0.64824 \n",
            "Iteração: 06650 - custo: 0.64823 \n",
            "Iteração: 06700 - custo: 0.64821 \n",
            "Iteração: 06750 - custo: 0.64820 \n",
            "Iteração: 06800 - custo: 0.64818 \n",
            "Iteração: 06850 - custo: 0.64817 \n",
            "Iteração: 06900 - custo: 0.64816 \n",
            "Iteração: 06950 - custo: 0.64814 \n",
            "Iteração: 07000 - custo: 0.64813 \n",
            "Iteração: 07050 - custo: 0.64811 \n",
            "Iteração: 07100 - custo: 0.64810 \n",
            "Iteração: 07150 - custo: 0.64809 \n",
            "Iteração: 07200 - custo: 0.64807 \n",
            "Iteração: 07250 - custo: 0.64806 \n",
            "Iteração: 07300 - custo: 0.64804 \n",
            "Iteração: 07350 - custo: 0.64803 \n",
            "Iteração: 07400 - custo: 0.64802 \n",
            "Iteração: 07450 - custo: 0.64801 \n",
            "Iteração: 07500 - custo: 0.64799 \n",
            "Iteração: 07550 - custo: 0.64798 \n",
            "Iteração: 07600 - custo: 0.64797 \n",
            "Iteração: 07650 - custo: 0.64795 \n",
            "Iteração: 07700 - custo: 0.64794 \n",
            "Iteração: 07750 - custo: 0.64793 \n",
            "Iteração: 07800 - custo: 0.64792 \n",
            "Iteração: 07850 - custo: 0.64790 \n",
            "Iteração: 07900 - custo: 0.64789 \n",
            "Iteração: 07950 - custo: 0.64788 \n",
            "Iteração: 08000 - custo: 0.64787 \n",
            "Iteração: 08050 - custo: 0.64786 \n",
            "Iteração: 08100 - custo: 0.64785 \n",
            "Iteração: 08150 - custo: 0.64783 \n",
            "Iteração: 08200 - custo: 0.64782 \n",
            "Iteração: 08250 - custo: 0.64781 \n",
            "Iteração: 08300 - custo: 0.64780 \n",
            "Iteração: 08350 - custo: 0.64779 \n",
            "Iteração: 08400 - custo: 0.64778 \n",
            "Iteração: 08450 - custo: 0.64777 \n",
            "Iteração: 08500 - custo: 0.64776 \n",
            "Iteração: 08550 - custo: 0.64775 \n",
            "Iteração: 08600 - custo: 0.64773 \n",
            "Iteração: 08650 - custo: 0.64772 \n",
            "Iteração: 08700 - custo: 0.64771 \n",
            "Iteração: 08750 - custo: 0.64770 \n",
            "Iteração: 08800 - custo: 0.64769 \n",
            "Iteração: 08850 - custo: 0.64768 \n",
            "Iteração: 08900 - custo: 0.64767 \n",
            "Iteração: 08950 - custo: 0.64766 \n",
            "Iteração: 09000 - custo: 0.64765 \n",
            "Iteração: 09050 - custo: 0.64764 \n",
            "Iteração: 09100 - custo: 0.64763 \n",
            "Iteração: 09150 - custo: 0.64762 \n",
            "Iteração: 09200 - custo: 0.64761 \n",
            "Iteração: 09250 - custo: 0.64761 \n",
            "Iteração: 09300 - custo: 0.64760 \n",
            "Iteração: 09350 - custo: 0.64759 \n",
            "Iteração: 09400 - custo: 0.64758 \n",
            "Iteração: 09450 - custo: 0.64757 \n",
            "Iteração: 09500 - custo: 0.64756 \n",
            "Iteração: 09550 - custo: 0.64755 \n",
            "Iteração: 09600 - custo: 0.64754 \n",
            "Iteração: 09650 - custo: 0.64753 \n",
            "Iteração: 09700 - custo: 0.64753 \n",
            "Iteração: 09750 - custo: 0.64752 \n",
            "Iteração: 09800 - custo: 0.64751 \n",
            "Iteração: 09850 - custo: 0.64750 \n",
            "Iteração: 09900 - custo: 0.64749 \n",
            "Iteração: 09950 - custo: 0.64748 \n",
            "Iteração: 10000 - custo: 0.64748 \n",
            "Iteração: 10050 - custo: 0.64747 \n",
            "Iteração: 10100 - custo: 0.64746 \n",
            "Iteração: 10150 - custo: 0.64745 \n",
            "Iteração: 10200 - custo: 0.64744 \n",
            "Iteração: 10250 - custo: 0.64744 \n",
            "Iteração: 10300 - custo: 0.64743 \n",
            "Iteração: 10350 - custo: 0.64742 \n",
            "Iteração: 10400 - custo: 0.64741 \n",
            "Iteração: 10450 - custo: 0.64741 \n",
            "Iteração: 10500 - custo: 0.64740 \n",
            "Iteração: 10550 - custo: 0.64739 \n",
            "Iteração: 10600 - custo: 0.64739 \n",
            "Iteração: 10650 - custo: 0.64738 \n",
            "Iteração: 10700 - custo: 0.64737 \n",
            "Iteração: 10750 - custo: 0.64737 \n",
            "Iteração: 10800 - custo: 0.64736 \n",
            "Iteração: 10850 - custo: 0.64735 \n",
            "Iteração: 10900 - custo: 0.64735 \n",
            "Iteração: 10950 - custo: 0.64734 \n",
            "Iteração: 11000 - custo: 0.64733 \n",
            "Iteração: 11050 - custo: 0.64733 \n",
            "Iteração: 11100 - custo: 0.64732 \n",
            "Iteração: 11150 - custo: 0.64731 \n",
            "Iteração: 11200 - custo: 0.64731 \n",
            "Iteração: 11250 - custo: 0.64730 \n",
            "Iteração: 11300 - custo: 0.64730 \n",
            "Iteração: 11350 - custo: 0.64729 \n",
            "Iteração: 11400 - custo: 0.64728 \n",
            "Iteração: 11450 - custo: 0.64728 \n",
            "Iteração: 11500 - custo: 0.64727 \n",
            "Iteração: 11550 - custo: 0.64727 \n",
            "Iteração: 11600 - custo: 0.64726 \n",
            "Iteração: 11650 - custo: 0.64725 \n",
            "Iteração: 11700 - custo: 0.64725 \n",
            "Iteração: 11750 - custo: 0.64724 \n",
            "Iteração: 11800 - custo: 0.64724 \n",
            "Iteração: 11850 - custo: 0.64723 \n",
            "Iteração: 11900 - custo: 0.64723 \n",
            "Iteração: 11950 - custo: 0.64722 \n",
            "Iteração: 12000 - custo: 0.64722 \n",
            "Iteração: 12050 - custo: 0.64721 \n",
            "Iteração: 12100 - custo: 0.64721 \n",
            "Iteração: 12150 - custo: 0.64720 \n",
            "Iteração: 12200 - custo: 0.64720 \n",
            "Iteração: 12250 - custo: 0.64719 \n",
            "Iteração: 12300 - custo: 0.64719 \n",
            "Iteração: 12350 - custo: 0.64718 \n",
            "Iteração: 12400 - custo: 0.64718 \n",
            "Iteração: 12450 - custo: 0.64717 \n",
            "Iteração: 12500 - custo: 0.64717 \n",
            "Iteração: 12550 - custo: 0.64716 \n",
            "Iteração: 12600 - custo: 0.64716 \n",
            "Iteração: 12650 - custo: 0.64716 \n",
            "Iteração: 12700 - custo: 0.64715 \n",
            "Iteração: 12750 - custo: 0.64715 \n",
            "Iteração: 12800 - custo: 0.64714 \n",
            "Iteração: 12850 - custo: 0.64714 \n",
            "Iteração: 12900 - custo: 0.64713 \n",
            "Iteração: 12950 - custo: 0.64713 \n",
            "Iteração: 13000 - custo: 0.64713 \n",
            "Iteração: 13050 - custo: 0.64712 \n",
            "Iteração: 13100 - custo: 0.64712 \n",
            "Iteração: 13150 - custo: 0.64711 \n",
            "Iteração: 13200 - custo: 0.64711 \n",
            "Iteração: 13250 - custo: 0.64711 \n",
            "Iteração: 13300 - custo: 0.64710 \n",
            "Iteração: 13350 - custo: 0.64710 \n",
            "Iteração: 13400 - custo: 0.64710 \n",
            "Iteração: 13450 - custo: 0.64709 \n",
            "Iteração: 13500 - custo: 0.64709 \n",
            "Iteração: 13550 - custo: 0.64709 \n",
            "Iteração: 13600 - custo: 0.64708 \n",
            "Iteração: 13650 - custo: 0.64708 \n",
            "Iteração: 13700 - custo: 0.64708 \n",
            "Iteração: 13750 - custo: 0.64707 \n",
            "Iteração: 13800 - custo: 0.64707 \n",
            "Iteração: 13850 - custo: 0.64707 \n",
            "Iteração: 13900 - custo: 0.64706 \n",
            "Iteração: 13950 - custo: 0.64706 \n",
            "Iteração: 14000 - custo: 0.64706 \n",
            "Iteração: 14050 - custo: 0.64705 \n",
            "Iteração: 14100 - custo: 0.64705 \n",
            "Iteração: 14150 - custo: 0.64705 \n",
            "Iteração: 14200 - custo: 0.64704 \n",
            "Iteração: 14250 - custo: 0.64704 \n",
            "Iteração: 14300 - custo: 0.64704 \n",
            "Iteração: 14350 - custo: 0.64704 \n",
            "Iteração: 14400 - custo: 0.64703 \n",
            "Iteração: 14450 - custo: 0.64703 \n",
            "Iteração: 14500 - custo: 0.64703 \n",
            "Iteração: 14550 - custo: 0.64702 \n",
            "Iteração: 14600 - custo: 0.64702 \n",
            "Iteração: 14650 - custo: 0.64702 \n",
            "Iteração: 14700 - custo: 0.64702 \n",
            "Iteração: 14750 - custo: 0.64701 \n",
            "Iteração: 14800 - custo: 0.64701 \n",
            "Iteração: 14850 - custo: 0.64701 \n",
            "Iteração: 14900 - custo: 0.64701 \n",
            "Iteração: 14950 - custo: 0.64700 \n",
            "Iteração: 15000 - custo: 0.64700 \n",
            "Iteração: 15050 - custo: 0.64700 \n",
            "Iteração: 15100 - custo: 0.64700 \n",
            "Iteração: 15150 - custo: 0.64699 \n",
            "Iteração: 15200 - custo: 0.64699 \n",
            "Iteração: 15250 - custo: 0.64699 \n",
            "Iteração: 15300 - custo: 0.64699 \n",
            "Iteração: 15350 - custo: 0.64699 \n",
            "Iteração: 15400 - custo: 0.64698 \n",
            "Iteração: 15450 - custo: 0.64698 \n",
            "Iteração: 15500 - custo: 0.64698 \n",
            "Iteração: 15550 - custo: 0.64698 \n",
            "Iteração: 15600 - custo: 0.64697 \n",
            "Iteração: 15650 - custo: 0.64697 \n",
            "Iteração: 15700 - custo: 0.64697 \n",
            "Iteração: 15750 - custo: 0.64697 \n",
            "Iteração: 15800 - custo: 0.64697 \n",
            "Iteração: 15850 - custo: 0.64696 \n",
            "Iteração: 15900 - custo: 0.64696 \n",
            "Iteração: 15950 - custo: 0.64696 \n",
            "Iteração: 16000 - custo: 0.64696 \n",
            "Iteração: 16050 - custo: 0.64696 \n",
            "Iteração: 16100 - custo: 0.64696 \n",
            "Iteração: 16150 - custo: 0.64695 \n",
            "Iteração: 16200 - custo: 0.64695 \n",
            "Iteração: 16250 - custo: 0.64695 \n",
            "Iteração: 16300 - custo: 0.64695 \n",
            "Iteração: 16350 - custo: 0.64695 \n",
            "Iteração: 16400 - custo: 0.64695 \n",
            "Iteração: 16450 - custo: 0.64694 \n",
            "Iteração: 16500 - custo: 0.64694 \n",
            "Iteração: 16550 - custo: 0.64694 \n",
            "Iteração: 16600 - custo: 0.64694 \n",
            "Iteração: 16650 - custo: 0.64694 \n",
            "Iteração: 16700 - custo: 0.64694 \n",
            "Iteração: 16750 - custo: 0.64693 \n",
            "Iteração: 16800 - custo: 0.64693 \n",
            "Iteração: 16850 - custo: 0.64693 \n",
            "Iteração: 16900 - custo: 0.64693 \n",
            "Iteração: 16950 - custo: 0.64693 \n",
            "Iteração: 17000 - custo: 0.64693 \n",
            "Iteração: 17050 - custo: 0.64692 \n",
            "Iteração: 17100 - custo: 0.64692 \n",
            "Iteração: 17150 - custo: 0.64692 \n",
            "Iteração: 17200 - custo: 0.64692 \n",
            "Iteração: 17250 - custo: 0.64692 \n",
            "Iteração: 17300 - custo: 0.64692 \n",
            "Iteração: 17350 - custo: 0.64692 \n",
            "Iteração: 17400 - custo: 0.64692 \n",
            "Iteração: 17450 - custo: 0.64691 \n",
            "Iteração: 17500 - custo: 0.64691 \n",
            "Iteração: 17550 - custo: 0.64691 \n",
            "Iteração: 17600 - custo: 0.64691 \n",
            "Iteração: 17650 - custo: 0.64691 \n",
            "Iteração: 17700 - custo: 0.64691 \n",
            "Iteração: 17750 - custo: 0.64691 \n",
            "Iteração: 17800 - custo: 0.64691 \n",
            "Iteração: 17850 - custo: 0.64690 \n",
            "Iteração: 17900 - custo: 0.64690 \n",
            "Iteração: 17950 - custo: 0.64690 \n",
            "Iteração: 18000 - custo: 0.64690 \n",
            "Iteração: 18050 - custo: 0.64690 \n",
            "Iteração: 18100 - custo: 0.64690 \n",
            "Iteração: 18150 - custo: 0.64690 \n",
            "Iteração: 18200 - custo: 0.64690 \n",
            "Iteração: 18250 - custo: 0.64690 \n",
            "Iteração: 18300 - custo: 0.64690 \n",
            "Iteração: 18350 - custo: 0.64689 \n",
            "Iteração: 18400 - custo: 0.64689 \n",
            "Iteração: 18450 - custo: 0.64689 \n",
            "Iteração: 18500 - custo: 0.64689 \n",
            "Iteração: 18550 - custo: 0.64689 \n",
            "Iteração: 18600 - custo: 0.64689 \n",
            "Iteração: 18650 - custo: 0.64689 \n",
            "Iteração: 18700 - custo: 0.64689 \n",
            "Iteração: 18750 - custo: 0.64689 \n",
            "Iteração: 18800 - custo: 0.64689 \n",
            "Iteração: 18850 - custo: 0.64689 \n",
            "Iteração: 18900 - custo: 0.64688 \n",
            "Iteração: 18950 - custo: 0.64688 \n",
            "Iteração: 19000 - custo: 0.64688 \n",
            "Iteração: 19050 - custo: 0.64688 \n",
            "Iteração: 19100 - custo: 0.64688 \n",
            "Iteração: 19150 - custo: 0.64688 \n",
            "Iteração: 19200 - custo: 0.64688 \n",
            "Iteração: 19250 - custo: 0.64688 \n",
            "Iteração: 19300 - custo: 0.64688 \n",
            "Iteração: 19350 - custo: 0.64688 \n",
            "Iteração: 19400 - custo: 0.64688 \n",
            "Iteração: 19450 - custo: 0.64688 \n",
            "Iteração: 19500 - custo: 0.64688 \n",
            "Iteração: 19550 - custo: 0.64688 \n",
            "Iteração: 19600 - custo: 0.64687 \n",
            "Iteração: 19650 - custo: 0.64687 \n",
            "Iteração: 19700 - custo: 0.64687 \n",
            "Iteração: 19750 - custo: 0.64687 \n",
            "Iteração: 19800 - custo: 0.64687 \n",
            "Iteração: 19850 - custo: 0.64687 \n",
            "Iteração: 19900 - custo: 0.64687 \n",
            "Iteração: 19950 - custo: 0.64687 \n"
          ]
        }
      ],
      "source": [
        "# Treinamento\n",
        "valores_parametros, historia_custo, historia_custo_teste = treino(np.transpose(X_treino), np.transpose(y_treino.reshape((y_treino.shape[0], 1))), \n",
        "                                                                  np.transpose(X_teste), np.transpose(y_teste.reshape((y_teste.shape[0], 1))), \n",
        "                                                                  arquitetura, 20000, 0.01)"
      ]
    },
    {
      "cell_type": "code",
      "execution_count": 41,
      "metadata": {
        "id": "UJmwMtKJn9dP",
        "outputId": "ff64658b-d904-459d-b090-c4046afbfad1",
        "colab": {
          "base_uri": "https://localhost:8080/",
          "height": 290
        }
      },
      "outputs": [
        {
          "output_type": "display_data",
          "data": {
            "image/png": "[encoded data removed]",
            "text/plain": [
              "<Figure size 432x288 with 1 Axes>"
            ]
          },
          "metadata": {
            "needs_background": "light"
          }
        }
      ],
      "source": [
        "plt.plot(historia_custo)\n",
        "plt.plot(historia_custo_teste, 'r')\n",
        "plt.legend(['Treinamento','Teste'])\n",
        "plt.ylabel('Custo')\n",
        "plt.xlabel('Épocas')\n",
        "plt.show()"
      ]
    },
    {
      "cell_type": "markdown",
      "metadata": {
        "id": "Wqe4agjCn9dQ"
      },
      "source": [
        "### Fazendo Previsões"
      ]
    },
    {
      "cell_type": "code",
      "execution_count": 42,
      "metadata": {
        "id": "3ell3u7sn9dS"
      },
      "outputs": [],
      "source": [
        "# Previsão\n",
        "Y_pred, _ = propaga_total(np.transpose(X_teste), valores_parametros, arquitetura)"
      ]
    },
    {
      "cell_type": "code",
      "execution_count": 44,
      "metadata": {
        "id": "8-84Hjtcn9dU",
        "outputId": "241fd10a-8e5f-4810-80c9-a79f69aab96c",
        "colab": {
          "base_uri": "https://localhost:8080/",
          "height": 287
        }
      },
      "outputs": [
        {
          "output_type": "display_data",
          "data": {
            "image/png": "[encoded data removed]",
            "text/plain": [
              "<Figure size 432x288 with 1 Axes>"
            ]
          },
          "metadata": {
            "needs_background": "light"
          }
        }
      ],
      "source": [
        "plt.plot(np.transpose(X_teste)[1],ymax*y_teste,'.')\n",
        "plt.plot(np.transpose(X_teste)[1],ymax*Y_pred.reshape([-1,1]),'.r')\n",
        "plt.legend(['Reais','Preditos'])\n",
        "plt.ylabel('Quantidade de Trens')\n",
        "plt.xlabel('Preço de Mercado do Minério')\n",
        "plt.show()"
      ]
    },
    {
      "cell_type": "code",
      "execution_count": null,
      "metadata": {
        "id": "QRO3ijG8n9dW",
        "outputId": "a66b55c1-6905-439e-ad14-795eb78f0a34",
        "colab": {
          "base_uri": "https://localhost:8080/"
        }
      },
      "outputs": [
        {
          "output_type": "display_data",
          "data": {
            "image/png": "[encoded data removed]",
            "text/plain": [
              "<Figure size 432x288 with 1 Axes>"
            ]
          },
          "metadata": {
            "needs_background": "light"
          }
        }
      ],
      "source": [
        "plt.plot(3*np.transpose(X_teste)[0],ymax*y_teste,'.')\n",
        "plt.plot(3*np.transpose(X_teste)[0],ymax*Y_pred.reshape([-1,1]),'.r')\n",
        "plt.legend(['Reais','Preditos'])\n",
        "plt.ylabel('bicicletas_alugadas')\n",
        "plt.xlabel('clima')\n",
        "plt.rcParams.update({'font.size': 22})\n",
        "indice=[1,2,3]\n",
        "plt.xticks(indice, fontsize=14)\n",
        "plt.show()"
      ]
    },
    {
      "cell_type": "code",
      "execution_count": null,
      "metadata": {
        "id": "baAOWNW2n9dZ"
      },
      "outputs": [],
      "source": [
        ""
      ]
    },
    {
      "cell_type": "code",
      "execution_count": null,
      "metadata": {
        "id": "7DKIz5z2n9db"
      },
      "outputs": [],
      "source": [
        ""
      ]
    }
  ],
  "metadata": {
    "kernelspec": {
      "display_name": "Python 3",
      "language": "python",
      "name": "python3"
    },
    "language_info": {
      "codemirror_mode": {
        "name": "ipython",
        "version": 3
      },
      "file_extension": ".py",
      "mimetype": "text/x-python",
      "name": "python",
      "nbconvert_exporter": "python",
      "pygments_lexer": "ipython3",
      "version": "3.7.3"
    },
    "colab": {
      "name": "Numpy_Volume_Prev.ipynb",
      "provenance": []
    }
  },
  "nbformat": 4,
  "nbformat_minor": 0
}